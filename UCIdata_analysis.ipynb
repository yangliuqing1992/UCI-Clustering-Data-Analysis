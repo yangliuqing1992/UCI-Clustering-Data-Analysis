{
 "cells": [
  {
   "cell_type": "markdown",
   "metadata": {},
   "source": [
    "# Clutering and classification analysis for the drug review data"
   ]
  },
  {
   "cell_type": "markdown",
   "metadata": {},
   "source": [
    "The zipped data can be downloaded from https://archive.ics.uci.edu/ml/machine-learning-databases/00462/drugsCom_raw.zip. It contains two datasets: drugComTest_raw.tsv, drugComTrain_raw.tsv. They are pre-seperated by the submitter. Detailed data description can be found at https://archive.ics.uci.edu/ml/datasets/Drug+Review+Dataset+%28Drugs.com%29. Basically, this dataset provides patient reviews on specific drugs along with related conditions. In this analysis, I mainly focus on the patients' reviews and cluster, classify based on the text information."
   ]
  },
  {
   "cell_type": "markdown",
   "metadata": {},
   "source": [
    "## 1. Import python tools"
   ]
  },
  {
   "cell_type": "code",
   "execution_count": 1,
   "metadata": {
    "collapsed": true
   },
   "outputs": [],
   "source": [
    "import pandas as pd\n",
    "import numpy as np\n",
    "from sklearn import preprocessing\n",
    "from sklearn.cluster import AgglomerativeClustering\n",
    "from sklearn.model_selection import train_test_split\n",
    "from sklearn.ensemble import RandomForestClassifier\n",
    "from sklearn.model_selection import GridSearchCV\n",
    "from nltk import tokenize\n",
    "from nltk.sentiment.vader import SentimentIntensityAnalyzer as SIA\n",
    "import matplotlib.pyplot as plt"
   ]
  },
  {
   "cell_type": "markdown",
   "metadata": {},
   "source": [
    "## 2. Data cleaning"
   ]
  },
  {
   "cell_type": "markdown",
   "metadata": {},
   "source": [
    "Datasets are read and concatenated into one because the first task is clustering and no need for eveluation. To reduce the running time of the script, the models are built on 5000 observations. (I tried for all observations, the sentiment analysis took **VERY** long) If has more powerful engine, one can use the whole dataset and do exactally the same for all the rest steps."
   ]
  },
  {
   "cell_type": "code",
   "execution_count": 2,
   "metadata": {},
   "outputs": [
    {
     "data": {
      "text/html": [
       "<div>\n",
       "<style>\n",
       "    .dataframe thead tr:only-child th {\n",
       "        text-align: right;\n",
       "    }\n",
       "\n",
       "    .dataframe thead th {\n",
       "        text-align: left;\n",
       "    }\n",
       "\n",
       "    .dataframe tbody tr th {\n",
       "        vertical-align: top;\n",
       "    }\n",
       "</style>\n",
       "<table border=\"1\" class=\"dataframe\">\n",
       "  <thead>\n",
       "    <tr style=\"text-align: right;\">\n",
       "      <th></th>\n",
       "      <th>Unnamed: 0</th>\n",
       "      <th>drugName</th>\n",
       "      <th>condition</th>\n",
       "      <th>review</th>\n",
       "      <th>rating</th>\n",
       "      <th>date</th>\n",
       "      <th>usefulCount</th>\n",
       "    </tr>\n",
       "  </thead>\n",
       "  <tbody>\n",
       "    <tr>\n",
       "      <th>0</th>\n",
       "      <td>206461</td>\n",
       "      <td>Valsartan</td>\n",
       "      <td>Left Ventricular Dysfunction</td>\n",
       "      <td>\"It has no side effect, I take it in combinati...</td>\n",
       "      <td>9.0</td>\n",
       "      <td>May 20, 2012</td>\n",
       "      <td>27</td>\n",
       "    </tr>\n",
       "    <tr>\n",
       "      <th>1</th>\n",
       "      <td>95260</td>\n",
       "      <td>Guanfacine</td>\n",
       "      <td>ADHD</td>\n",
       "      <td>\"My son is halfway through his fourth week of ...</td>\n",
       "      <td>8.0</td>\n",
       "      <td>April 27, 2010</td>\n",
       "      <td>192</td>\n",
       "    </tr>\n",
       "    <tr>\n",
       "      <th>2</th>\n",
       "      <td>92703</td>\n",
       "      <td>Lybrel</td>\n",
       "      <td>Birth Control</td>\n",
       "      <td>\"I used to take another oral contraceptive, wh...</td>\n",
       "      <td>5.0</td>\n",
       "      <td>December 14, 2009</td>\n",
       "      <td>17</td>\n",
       "    </tr>\n",
       "    <tr>\n",
       "      <th>3</th>\n",
       "      <td>138000</td>\n",
       "      <td>Ortho Evra</td>\n",
       "      <td>Birth Control</td>\n",
       "      <td>\"This is my first time using any form of birth...</td>\n",
       "      <td>8.0</td>\n",
       "      <td>November 3, 2015</td>\n",
       "      <td>10</td>\n",
       "    </tr>\n",
       "    <tr>\n",
       "      <th>4</th>\n",
       "      <td>35696</td>\n",
       "      <td>Buprenorphine / naloxone</td>\n",
       "      <td>Opiate Dependence</td>\n",
       "      <td>\"Suboxone has completely turned my life around...</td>\n",
       "      <td>9.0</td>\n",
       "      <td>November 27, 2016</td>\n",
       "      <td>37</td>\n",
       "    </tr>\n",
       "    <tr>\n",
       "      <th>5</th>\n",
       "      <td>155963</td>\n",
       "      <td>Cialis</td>\n",
       "      <td>Benign Prostatic Hyperplasia</td>\n",
       "      <td>\"2nd day on 5mg started to work with rock hard...</td>\n",
       "      <td>2.0</td>\n",
       "      <td>November 28, 2015</td>\n",
       "      <td>43</td>\n",
       "    </tr>\n",
       "    <tr>\n",
       "      <th>6</th>\n",
       "      <td>165907</td>\n",
       "      <td>Levonorgestrel</td>\n",
       "      <td>Emergency Contraception</td>\n",
       "      <td>\"He pulled out, but he cummed a bit in me. I t...</td>\n",
       "      <td>1.0</td>\n",
       "      <td>March 7, 2017</td>\n",
       "      <td>5</td>\n",
       "    </tr>\n",
       "    <tr>\n",
       "      <th>7</th>\n",
       "      <td>102654</td>\n",
       "      <td>Aripiprazole</td>\n",
       "      <td>Bipolar Disorde</td>\n",
       "      <td>\"Abilify changed my life. There is hope. I was...</td>\n",
       "      <td>10.0</td>\n",
       "      <td>March 14, 2015</td>\n",
       "      <td>32</td>\n",
       "    </tr>\n",
       "    <tr>\n",
       "      <th>8</th>\n",
       "      <td>74811</td>\n",
       "      <td>Keppra</td>\n",
       "      <td>Epilepsy</td>\n",
       "      <td>\" I Ve had  nothing but problems with the Kepp...</td>\n",
       "      <td>1.0</td>\n",
       "      <td>August 9, 2016</td>\n",
       "      <td>11</td>\n",
       "    </tr>\n",
       "    <tr>\n",
       "      <th>9</th>\n",
       "      <td>48928</td>\n",
       "      <td>Ethinyl estradiol / levonorgestrel</td>\n",
       "      <td>Birth Control</td>\n",
       "      <td>\"I had been on the pill for many years. When m...</td>\n",
       "      <td>8.0</td>\n",
       "      <td>December 8, 2016</td>\n",
       "      <td>1</td>\n",
       "    </tr>\n",
       "    <tr>\n",
       "      <th>10</th>\n",
       "      <td>29607</td>\n",
       "      <td>Topiramate</td>\n",
       "      <td>Migraine Prevention</td>\n",
       "      <td>\"I have been on this medication almost two wee...</td>\n",
       "      <td>9.0</td>\n",
       "      <td>January 1, 2015</td>\n",
       "      <td>19</td>\n",
       "    </tr>\n",
       "    <tr>\n",
       "      <th>11</th>\n",
       "      <td>75612</td>\n",
       "      <td>L-methylfolate</td>\n",
       "      <td>Depression</td>\n",
       "      <td>\"I have taken anti-depressants for years, with...</td>\n",
       "      <td>10.0</td>\n",
       "      <td>March 9, 2017</td>\n",
       "      <td>54</td>\n",
       "    </tr>\n",
       "  </tbody>\n",
       "</table>\n",
       "</div>"
      ],
      "text/plain": [
       "    Unnamed: 0                            drugName  \\\n",
       "0       206461                           Valsartan   \n",
       "1        95260                          Guanfacine   \n",
       "2        92703                              Lybrel   \n",
       "3       138000                          Ortho Evra   \n",
       "4        35696            Buprenorphine / naloxone   \n",
       "5       155963                              Cialis   \n",
       "6       165907                      Levonorgestrel   \n",
       "7       102654                        Aripiprazole   \n",
       "8        74811                              Keppra   \n",
       "9        48928  Ethinyl estradiol / levonorgestrel   \n",
       "10       29607                          Topiramate   \n",
       "11       75612                      L-methylfolate   \n",
       "\n",
       "                       condition  \\\n",
       "0   Left Ventricular Dysfunction   \n",
       "1                           ADHD   \n",
       "2                  Birth Control   \n",
       "3                  Birth Control   \n",
       "4              Opiate Dependence   \n",
       "5   Benign Prostatic Hyperplasia   \n",
       "6        Emergency Contraception   \n",
       "7                Bipolar Disorde   \n",
       "8                       Epilepsy   \n",
       "9                  Birth Control   \n",
       "10           Migraine Prevention   \n",
       "11                    Depression   \n",
       "\n",
       "                                               review  rating  \\\n",
       "0   \"It has no side effect, I take it in combinati...     9.0   \n",
       "1   \"My son is halfway through his fourth week of ...     8.0   \n",
       "2   \"I used to take another oral contraceptive, wh...     5.0   \n",
       "3   \"This is my first time using any form of birth...     8.0   \n",
       "4   \"Suboxone has completely turned my life around...     9.0   \n",
       "5   \"2nd day on 5mg started to work with rock hard...     2.0   \n",
       "6   \"He pulled out, but he cummed a bit in me. I t...     1.0   \n",
       "7   \"Abilify changed my life. There is hope. I was...    10.0   \n",
       "8   \" I Ve had  nothing but problems with the Kepp...     1.0   \n",
       "9   \"I had been on the pill for many years. When m...     8.0   \n",
       "10  \"I have been on this medication almost two wee...     9.0   \n",
       "11  \"I have taken anti-depressants for years, with...    10.0   \n",
       "\n",
       "                 date  usefulCount  \n",
       "0        May 20, 2012           27  \n",
       "1      April 27, 2010          192  \n",
       "2   December 14, 2009           17  \n",
       "3    November 3, 2015           10  \n",
       "4   November 27, 2016           37  \n",
       "5   November 28, 2015           43  \n",
       "6       March 7, 2017            5  \n",
       "7      March 14, 2015           32  \n",
       "8      August 9, 2016           11  \n",
       "9    December 8, 2016            1  \n",
       "10    January 1, 2015           19  \n",
       "11      March 9, 2017           54  "
      ]
     },
     "execution_count": 2,
     "metadata": {},
     "output_type": "execute_result"
    }
   ],
   "source": [
    "train=pd.read_csv('drugsComTrain_raw.tsv',sep='\\t')\n",
    "test=pd.read_csv('drugsComTest_raw.tsv',sep='\\t')\n",
    "#data=pd.concat([train,test])\n",
    "data=pd.concat([train,test]).iloc[:5000,:]\n",
    "data.head(12)"
   ]
  },
  {
   "cell_type": "markdown",
   "metadata": {},
   "source": [
    "The data has seven features and five thousands observations. I first drop the meaningless column 'Unnamed: 0' and the missing occurs only at the feature 'condition'. "
   ]
  },
  {
   "cell_type": "code",
   "execution_count": 3,
   "metadata": {},
   "outputs": [
    {
     "data": {
      "text/plain": [
       "drugName        0\n",
       "condition      28\n",
       "review          0\n",
       "rating          0\n",
       "date            0\n",
       "usefulCount     0\n",
       "dtype: int64"
      ]
     },
     "execution_count": 3,
     "metadata": {},
     "output_type": "execute_result"
    }
   ],
   "source": [
    "data.columns.values\n",
    "data=data.drop(['Unnamed: 0'],axis=1)\n",
    "pd.isnull(data).sum()"
   ]
  },
  {
   "cell_type": "markdown",
   "metadata": {},
   "source": [
    "Then figure out there are 1103 categories in the 'durgName' and 374 in 'condition'."
   ]
  },
  {
   "cell_type": "code",
   "execution_count": 4,
   "metadata": {},
   "outputs": [
    {
     "name": "stdout",
     "output_type": "stream",
     "text": [
      "1103\n",
      "374\n"
     ]
    }
   ],
   "source": [
    "def unique(series):\n",
    "    x = np.array(list(series))\n",
    "    return(np.unique(x))\n",
    "drug=unique(data['drugName']); print(len(drug))\n",
    "condition=unique(data['condition']); print(len(condition))\n"
   ]
  },
  {
   "cell_type": "markdown",
   "metadata": {},
   "source": [
    "### 2.1 Sentiment analysis"
   ]
  },
  {
   "cell_type": "markdown",
   "metadata": {},
   "source": [
    "Write a function to calculate three sentiment scores for a given text: negative scores, neutral scores and positive scores. "
   ]
  },
  {
   "cell_type": "code",
   "execution_count": 5,
   "metadata": {
    "collapsed": true
   },
   "outputs": [],
   "source": [
    "def ana_sentiment(text):\n",
    "    sia = SIA()\n",
    "    results = []\n",
    "    text_s=tokenize.sent_tokenize(text)\n",
    "\n",
    "    for s in text_s:\n",
    "      pol_score = sia.polarity_scores(s)\n",
    "      pol_score['headline'] = s\n",
    "      results.append(pol_score)\n",
    "\n",
    "    df = pd.DataFrame.from_records(results)\n",
    "    sent_scores=list(df.mean(axis=0)) \n",
    "    return(sent_scores)"
   ]
  },
  {
   "cell_type": "markdown",
   "metadata": {},
   "source": [
    "Based on above function, creat three features for the negative, neutral and positive scores of each review. Then drop meaningless features. Someone may ask why not retain drugName or condtion. The reason is: I want the customers' review play the main role in this clustering. Also, for the clustering, one need to define the distance for pairwise obsrevations. However, in this case, if we define the distance based on all the features and encode categorical variables, the dimension after encoding can be very large and may replace the role that sentiment scores plays in the clustering. In other words, those categorical variables mainly influent the distances and thus the clustering results. "
   ]
  },
  {
   "cell_type": "code",
   "execution_count": 6,
   "metadata": {},
   "outputs": [
    {
     "data": {
      "text/html": [
       "<div>\n",
       "<style>\n",
       "    .dataframe thead tr:only-child th {\n",
       "        text-align: right;\n",
       "    }\n",
       "\n",
       "    .dataframe thead th {\n",
       "        text-align: left;\n",
       "    }\n",
       "\n",
       "    .dataframe tbody tr th {\n",
       "        vertical-align: top;\n",
       "    }\n",
       "</style>\n",
       "<table border=\"1\" class=\"dataframe\">\n",
       "  <thead>\n",
       "    <tr style=\"text-align: right;\">\n",
       "      <th></th>\n",
       "      <th>usefulCount</th>\n",
       "      <th>neg_score</th>\n",
       "      <th>neu_score</th>\n",
       "      <th>pos_score</th>\n",
       "    </tr>\n",
       "  </thead>\n",
       "  <tbody>\n",
       "    <tr>\n",
       "      <th>0</th>\n",
       "      <td>27</td>\n",
       "      <td>0.136000</td>\n",
       "      <td>0.864000</td>\n",
       "      <td>0.000000</td>\n",
       "    </tr>\n",
       "    <tr>\n",
       "      <th>1</th>\n",
       "      <td>192</td>\n",
       "      <td>0.020455</td>\n",
       "      <td>0.852727</td>\n",
       "      <td>0.126818</td>\n",
       "    </tr>\n",
       "    <tr>\n",
       "      <th>2</th>\n",
       "      <td>17</td>\n",
       "      <td>0.019111</td>\n",
       "      <td>0.903778</td>\n",
       "      <td>0.077111</td>\n",
       "    </tr>\n",
       "    <tr>\n",
       "      <th>3</th>\n",
       "      <td>10</td>\n",
       "      <td>0.008800</td>\n",
       "      <td>0.873400</td>\n",
       "      <td>0.117800</td>\n",
       "    </tr>\n",
       "    <tr>\n",
       "      <th>4</th>\n",
       "      <td>37</td>\n",
       "      <td>0.042182</td>\n",
       "      <td>0.791182</td>\n",
       "      <td>0.166727</td>\n",
       "    </tr>\n",
       "    <tr>\n",
       "      <th>5</th>\n",
       "      <td>43</td>\n",
       "      <td>0.136000</td>\n",
       "      <td>0.753000</td>\n",
       "      <td>0.110833</td>\n",
       "    </tr>\n",
       "    <tr>\n",
       "      <th>6</th>\n",
       "      <td>5</td>\n",
       "      <td>0.000000</td>\n",
       "      <td>1.000000</td>\n",
       "      <td>0.000000</td>\n",
       "    </tr>\n",
       "    <tr>\n",
       "      <th>7</th>\n",
       "      <td>32</td>\n",
       "      <td>0.094545</td>\n",
       "      <td>0.801364</td>\n",
       "      <td>0.104091</td>\n",
       "    </tr>\n",
       "    <tr>\n",
       "      <th>8</th>\n",
       "      <td>11</td>\n",
       "      <td>0.207000</td>\n",
       "      <td>0.677000</td>\n",
       "      <td>0.116000</td>\n",
       "    </tr>\n",
       "    <tr>\n",
       "      <th>9</th>\n",
       "      <td>1</td>\n",
       "      <td>0.162700</td>\n",
       "      <td>0.682300</td>\n",
       "      <td>0.155300</td>\n",
       "    </tr>\n",
       "  </tbody>\n",
       "</table>\n",
       "</div>"
      ],
      "text/plain": [
       "   usefulCount  neg_score  neu_score  pos_score\n",
       "0           27   0.136000   0.864000   0.000000\n",
       "1          192   0.020455   0.852727   0.126818\n",
       "2           17   0.019111   0.903778   0.077111\n",
       "3           10   0.008800   0.873400   0.117800\n",
       "4           37   0.042182   0.791182   0.166727\n",
       "5           43   0.136000   0.753000   0.110833\n",
       "6            5   0.000000   1.000000   0.000000\n",
       "7           32   0.094545   0.801364   0.104091\n",
       "8           11   0.207000   0.677000   0.116000\n",
       "9            1   0.162700   0.682300   0.155300"
      ]
     },
     "execution_count": 6,
     "metadata": {},
     "output_type": "execute_result"
    }
   ],
   "source": [
    "neg_score=[];neu_score=[];pos_score=[]\n",
    "for ind, row in data.iterrows():\n",
    "    s=ana_sentiment(row['review'])\n",
    "    neg_score.append(s[1]); neu_score.append(s[2]); pos_score.append(s[3])\n",
    "\n",
    "data_clean=data.copy()\n",
    "data_clean['neg_score']=neg_score;\n",
    "data_clean['neu_score']=neu_score;\n",
    "data_clean['pos_score']=pos_score\n",
    "data_clean=data_clean.drop(['drugName','condition','review','rating','date'],axis=1)\n",
    "data_clean.head(10)"
   ]
  },
  {
   "cell_type": "markdown",
   "metadata": {},
   "source": [
    "### 2.2 Normalization"
   ]
  },
  {
   "cell_type": "markdown",
   "metadata": {},
   "source": [
    "Now the data has four features: *usefulCount*, *neg_score*, *neu_score*, *pos_score*. Since for the clustering, pariwise distances are sensitive, I normalized all the columns. "
   ]
  },
  {
   "cell_type": "code",
   "execution_count": 7,
   "metadata": {},
   "outputs": [
    {
     "data": {
      "text/html": [
       "<div>\n",
       "<style>\n",
       "    .dataframe thead tr:only-child th {\n",
       "        text-align: right;\n",
       "    }\n",
       "\n",
       "    .dataframe thead th {\n",
       "        text-align: left;\n",
       "    }\n",
       "\n",
       "    .dataframe tbody tr th {\n",
       "        vertical-align: top;\n",
       "    }\n",
       "</style>\n",
       "<table border=\"1\" class=\"dataframe\">\n",
       "  <thead>\n",
       "    <tr style=\"text-align: right;\">\n",
       "      <th></th>\n",
       "      <th>usefulCount</th>\n",
       "      <th>neg_score</th>\n",
       "      <th>neu_score</th>\n",
       "      <th>pos_score</th>\n",
       "    </tr>\n",
       "  </thead>\n",
       "  <tbody>\n",
       "    <tr>\n",
       "      <th>0</th>\n",
       "      <td>0.021652</td>\n",
       "      <td>0.166259</td>\n",
       "      <td>0.836342</td>\n",
       "      <td>0.000000</td>\n",
       "    </tr>\n",
       "    <tr>\n",
       "      <th>1</th>\n",
       "      <td>0.153970</td>\n",
       "      <td>0.025006</td>\n",
       "      <td>0.822777</td>\n",
       "      <td>0.152609</td>\n",
       "    </tr>\n",
       "    <tr>\n",
       "      <th>2</th>\n",
       "      <td>0.013633</td>\n",
       "      <td>0.023363</td>\n",
       "      <td>0.884209</td>\n",
       "      <td>0.092793</td>\n",
       "    </tr>\n",
       "    <tr>\n",
       "      <th>3</th>\n",
       "      <td>0.008019</td>\n",
       "      <td>0.010758</td>\n",
       "      <td>0.847653</td>\n",
       "      <td>0.141757</td>\n",
       "    </tr>\n",
       "    <tr>\n",
       "      <th>4</th>\n",
       "      <td>0.029671</td>\n",
       "      <td>0.051567</td>\n",
       "      <td>0.748715</td>\n",
       "      <td>0.200635</td>\n",
       "    </tr>\n",
       "    <tr>\n",
       "      <th>5</th>\n",
       "      <td>0.034483</td>\n",
       "      <td>0.166259</td>\n",
       "      <td>0.702768</td>\n",
       "      <td>0.133373</td>\n",
       "    </tr>\n",
       "    <tr>\n",
       "      <th>6</th>\n",
       "      <td>0.004010</td>\n",
       "      <td>0.000000</td>\n",
       "      <td>1.000000</td>\n",
       "      <td>0.000000</td>\n",
       "    </tr>\n",
       "    <tr>\n",
       "      <th>7</th>\n",
       "      <td>0.025662</td>\n",
       "      <td>0.115581</td>\n",
       "      <td>0.760967</td>\n",
       "      <td>0.125260</td>\n",
       "    </tr>\n",
       "    <tr>\n",
       "      <th>8</th>\n",
       "      <td>0.008821</td>\n",
       "      <td>0.253056</td>\n",
       "      <td>0.611312</td>\n",
       "      <td>0.139591</td>\n",
       "    </tr>\n",
       "    <tr>\n",
       "      <th>9</th>\n",
       "      <td>0.000802</td>\n",
       "      <td>0.198900</td>\n",
       "      <td>0.617690</td>\n",
       "      <td>0.186883</td>\n",
       "    </tr>\n",
       "  </tbody>\n",
       "</table>\n",
       "</div>"
      ],
      "text/plain": [
       "   usefulCount  neg_score  neu_score  pos_score\n",
       "0     0.021652   0.166259   0.836342   0.000000\n",
       "1     0.153970   0.025006   0.822777   0.152609\n",
       "2     0.013633   0.023363   0.884209   0.092793\n",
       "3     0.008019   0.010758   0.847653   0.141757\n",
       "4     0.029671   0.051567   0.748715   0.200635\n",
       "5     0.034483   0.166259   0.702768   0.133373\n",
       "6     0.004010   0.000000   1.000000   0.000000\n",
       "7     0.025662   0.115581   0.760967   0.125260\n",
       "8     0.008821   0.253056   0.611312   0.139591\n",
       "9     0.000802   0.198900   0.617690   0.186883"
      ]
     },
     "execution_count": 7,
     "metadata": {},
     "output_type": "execute_result"
    }
   ],
   "source": [
    "min_max_scaler = preprocessing.MinMaxScaler()\n",
    "df=pd.DataFrame(min_max_scaler.fit_transform(data_clean))\n",
    "df.columns=data_clean.columns\n",
    "df.head(10)"
   ]
  },
  {
   "cell_type": "markdown",
   "metadata": {},
   "source": [
    "## 3. Clustering and visualization"
   ]
  },
  {
   "cell_type": "markdown",
   "metadata": {},
   "source": [
    "Hierarchical clustering is implemented. It carefully calculate the Wald distances between pairs of observations so that the points which are cose to each other in the 4-dimensioned sample space will be clustered in the sam group. I am interested how the data will be clustered in negative, neutral and positive reviews, so the number of clusters is set as 3."
   ]
  },
  {
   "cell_type": "code",
   "execution_count": 8,
   "metadata": {},
   "outputs": [
    {
     "data": {
      "text/plain": [
       "array([1, 1, 1, ..., 2, 2, 1], dtype=int64)"
      ]
     },
     "execution_count": 8,
     "metadata": {},
     "output_type": "execute_result"
    }
   ],
   "source": [
    "cluster = AgglomerativeClustering(n_clusters=3, affinity='euclidean', linkage='ward')  \n",
    "cluster.fit_predict(df)"
   ]
  },
  {
   "cell_type": "markdown",
   "metadata": {},
   "source": [
    "Results of the hierarchical clustering is visualized on the 2-dimensioned plane with xlab as the negative score and ylab as the pisitive score. From the plot, the data are clustered clearly into three groups with visible boundries."
   ]
  },
  {
   "cell_type": "code",
   "execution_count": 9,
   "metadata": {},
   "outputs": [
    {
     "data": {
      "image/png": "[encoded data removed]",
      "text/plain": [
       "<matplotlib.figure.Figure at 0x164805e1be0>"
      ]
     },
     "metadata": {},
     "output_type": "display_data"
    }
   ],
   "source": [
    "label_col=[]\n",
    "for item in list(cluster.labels_):\n",
    "    if item==0:\n",
    "        label_col.append('blue')\n",
    "    elif item==1:\n",
    "        label_col.append('green')\n",
    "    else:\n",
    "        label_col.append('red')\n",
    "\n",
    "plt.xlabel('negative score')\n",
    "plt.ylabel('positive score')\n",
    "plt.scatter(df.neg_score,df.pos_score, c=label_col)\n",
    "plt.show()"
   ]
  },
  {
   "cell_type": "markdown",
   "metadata": {},
   "source": [
    "The plot of all the data points with label 0 shows that in this cluster, positive scores are relatively higher than the negative score. Also, the positive scores themselves are not very small, say, larger than 0.1."
   ]
  },
  {
   "cell_type": "code",
   "execution_count": 10,
   "metadata": {},
   "outputs": [
    {
     "data": {
      "image/png": "[encoded data removed]",
      "text/plain": [
       "<matplotlib.figure.Figure at 0x164805c9390>"
      ]
     },
     "metadata": {},
     "output_type": "display_data"
    }
   ],
   "source": [
    "plt.xlim([0,1])\n",
    "plt.ylim([0,1])\n",
    "plt.title('label=0')\n",
    "plt.xlabel('negative score')\n",
    "plt.ylabel('positive score')\n",
    "plt.scatter(df.neg_score[cluster.labels_==0],df.pos_score[cluster.labels_==0],\n",
    "            c=['blue']*(cluster.labels_==0).sum())\n",
    "plt.show()"
   ]
  },
  {
   "cell_type": "markdown",
   "metadata": {},
   "source": [
    "For the plot of label 1, one can observe it's like a 1/4 circle. That is , both the negative and the positive scores are restricted."
   ]
  },
  {
   "cell_type": "code",
   "execution_count": 11,
   "metadata": {},
   "outputs": [
    {
     "data": {
      "image/png": "[encoded data removed]",
      "text/plain": [
       "<matplotlib.figure.Figure at 0x16480a73630>"
      ]
     },
     "metadata": {},
     "output_type": "display_data"
    }
   ],
   "source": [
    "plt.xlim([0,1])\n",
    "plt.ylim([0,1])\n",
    "plt.title('label=1')\n",
    "plt.xlabel('negative score')\n",
    "plt.ylabel('positive score')\n",
    "plt.scatter(df.neg_score[cluster.labels_==1],df.pos_score[cluster.labels_==1],\n",
    "            c=['green']*(cluster.labels_==1).sum())\n",
    "plt.show()"
   ]
  },
  {
   "cell_type": "markdown",
   "metadata": {},
   "source": [
    "Finally, the plot of all the data points with label 2 shows that in this cluster, negative scores are relatively higher than the negative score. Similarly, the negative scores themselves are not very small."
   ]
  },
  {
   "cell_type": "code",
   "execution_count": 12,
   "metadata": {},
   "outputs": [
    {
     "data": {
      "image/png": "[encoded data removed]",
      "text/plain": [
       "<matplotlib.figure.Figure at 0x16480d85fd0>"
      ]
     },
     "metadata": {},
     "output_type": "display_data"
    }
   ],
   "source": [
    "plt.xlim([0,1])\n",
    "plt.ylim([0,1])\n",
    "plt.title('label=2')\n",
    "plt.xlabel('negative score')\n",
    "plt.ylabel('positive score')\n",
    "plt.scatter(df.neg_score[cluster.labels_==2],df.pos_score[cluster.labels_==2],\n",
    "            c=['red']*(cluster.labels_==2).sum())\n",
    "plt.show()"
   ]
  },
  {
   "cell_type": "markdown",
   "metadata": {},
   "source": [
    "## 4. Classification"
   ]
  },
  {
   "cell_type": "markdown",
   "metadata": {},
   "source": [
    "Based on observations from above plots, I assigned cluster 0 with class label 'positive', 1 with class label 'neutral' and 2 with 'negative'. Then seperate data randomly into training and testing datasets so that approximately 20% data points are in the test."
   ]
  },
  {
   "cell_type": "code",
   "execution_count": 17,
   "metadata": {},
   "outputs": [
    {
     "data": {
      "text/html": [
       "<div>\n",
       "<style>\n",
       "    .dataframe thead tr:only-child th {\n",
       "        text-align: right;\n",
       "    }\n",
       "\n",
       "    .dataframe thead th {\n",
       "        text-align: left;\n",
       "    }\n",
       "\n",
       "    .dataframe tbody tr th {\n",
       "        vertical-align: top;\n",
       "    }\n",
       "</style>\n",
       "<table border=\"1\" class=\"dataframe\">\n",
       "  <thead>\n",
       "    <tr style=\"text-align: right;\">\n",
       "      <th></th>\n",
       "      <th>usefulCount</th>\n",
       "      <th>neg_score</th>\n",
       "      <th>neu_score</th>\n",
       "      <th>pos_score</th>\n",
       "      <th>label</th>\n",
       "    </tr>\n",
       "  </thead>\n",
       "  <tbody>\n",
       "    <tr>\n",
       "      <th>0</th>\n",
       "      <td>0.021652</td>\n",
       "      <td>0.166259</td>\n",
       "      <td>0.836342</td>\n",
       "      <td>0.000000</td>\n",
       "      <td>neutral</td>\n",
       "    </tr>\n",
       "    <tr>\n",
       "      <th>1</th>\n",
       "      <td>0.153970</td>\n",
       "      <td>0.025006</td>\n",
       "      <td>0.822777</td>\n",
       "      <td>0.152609</td>\n",
       "      <td>neutral</td>\n",
       "    </tr>\n",
       "    <tr>\n",
       "      <th>2</th>\n",
       "      <td>0.013633</td>\n",
       "      <td>0.023363</td>\n",
       "      <td>0.884209</td>\n",
       "      <td>0.092793</td>\n",
       "      <td>neutral</td>\n",
       "    </tr>\n",
       "    <tr>\n",
       "      <th>3</th>\n",
       "      <td>0.008019</td>\n",
       "      <td>0.010758</td>\n",
       "      <td>0.847653</td>\n",
       "      <td>0.141757</td>\n",
       "      <td>neutral</td>\n",
       "    </tr>\n",
       "    <tr>\n",
       "      <th>4</th>\n",
       "      <td>0.029671</td>\n",
       "      <td>0.051567</td>\n",
       "      <td>0.748715</td>\n",
       "      <td>0.200635</td>\n",
       "      <td>positive</td>\n",
       "    </tr>\n",
       "  </tbody>\n",
       "</table>\n",
       "</div>"
      ],
      "text/plain": [
       "   usefulCount  neg_score  neu_score  pos_score     label\n",
       "0     0.021652   0.166259   0.836342   0.000000   neutral\n",
       "1     0.153970   0.025006   0.822777   0.152609   neutral\n",
       "2     0.013633   0.023363   0.884209   0.092793   neutral\n",
       "3     0.008019   0.010758   0.847653   0.141757   neutral\n",
       "4     0.029671   0.051567   0.748715   0.200635  positive"
      ]
     },
     "execution_count": 17,
     "metadata": {},
     "output_type": "execute_result"
    }
   ],
   "source": [
    "label=[]\n",
    "for item in list(cluster.labels_):\n",
    "    if item==0:\n",
    "        label.append('positive')\n",
    "    elif item==1:\n",
    "        label.append('neutral')\n",
    "    else:\n",
    "        label.append('negative')\n",
    "df['label']=label\n",
    "df.head(5)"
   ]
  },
  {
   "cell_type": "code",
   "execution_count": null,
   "metadata": {
    "collapsed": true
   },
   "outputs": [],
   "source": [
    "df_data=df.iloc[:,:-1]; df_target=df.label\n",
    "X_train, X_test, y_train, y_test = train_test_split(df_data, df_target, test_size=0.2, random_state=123)"
   ]
  },
  {
   "cell_type": "markdown",
   "metadata": {},
   "source": [
    "Random forest model is implemented because in this case it has less variance by using multiple trees. The hyper-parameters of the model is tuned by 7-fold cross validation and at the end choose: *max_depth* as 6, *max_features* as 3, *min_samples_leaf* as 3, *min_sample_split* as 8 and *n_estimators* as 300.  \n",
    "**This chunk may run for more than 30 minutes**"
   ]
  },
  {
   "cell_type": "code",
   "execution_count": 14,
   "metadata": {
    "collapsed": true
   },
   "outputs": [],
   "source": [
    "param_grid = {\n",
    "    'bootstrap': [True],\n",
    "    'max_depth': [3, 4, 5, 6],\n",
    "    'max_features': [2, 3],\n",
    "    'min_samples_leaf': [3, 5],\n",
    "    'min_samples_split': [8, 10, 12],\n",
    "    'n_estimators': [200, 300, 500]\n",
    "}\n",
    "\n",
    "rf = RandomForestClassifier()\n",
    "\n",
    "grid_search = GridSearchCV(estimator=rf, param_grid=param_grid, cv=7)\n",
    "grid_search.fit(X_train, y_train)"
   ]
  },
  {
   "cell_type": "code",
   "execution_count": 16,
   "metadata": {},
   "outputs": [
    {
     "data": {
      "text/plain": [
       "{'bootstrap': True,\n",
       " 'max_depth': 6,\n",
       " 'max_features': 3,\n",
       " 'min_samples_leaf': 3,\n",
       " 'min_samples_split': 8,\n",
       " 'n_estimators': 500}"
      ]
     },
     "execution_count": 16,
     "metadata": {},
     "output_type": "execute_result"
    }
   ],
   "source": [
    "grid_search.best_params_"
   ]
  },
  {
   "cell_type": "markdown",
   "metadata": {},
   "source": [
    "Finally eveluate the model with accuracy. The result shows that 97.3% test data are correctly classified."
   ]
  },
  {
   "cell_type": "code",
   "execution_count": 15,
   "metadata": {},
   "outputs": [
    {
     "name": "stdout",
     "output_type": "stream",
     "text": [
      "0.973\n"
     ]
    }
   ],
   "source": [
    "best_grid = grid_search.best_estimator_\n",
    "pred=best_grid.predict(X_test)\n",
    "accuracy=sum(pred==y_test)/len(y_test)\n",
    "print(accuracy)"
   ]
  }
 ],
 "metadata": {
  "kernelspec": {
   "display_name": "Python 3",
   "language": "python",
   "name": "python3"
  },
  "language_info": {
   "codemirror_mode": {
    "name": "ipython",
    "version": 3
   },
   "file_extension": ".py",
   "mimetype": "text/x-python",
   "name": "python",
   "nbconvert_exporter": "python",
   "pygments_lexer": "ipython3",
   "version": "3.6.6"
  }
 },
 "nbformat": 4,
 "nbformat_minor": 2
}
